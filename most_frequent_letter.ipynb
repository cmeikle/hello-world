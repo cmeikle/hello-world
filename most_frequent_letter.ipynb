{
 "cells": [
  {
   "cell_type": "code",
   "execution_count": 1,
   "metadata": {
    "collapsed": false
   },
   "outputs": [
    {
     "name": "stdout",
     "output_type": "stream",
     "text": [
      "l\n",
      "o\n",
      "a\n",
      "Example:\n",
      "l\n",
      "Start the long test\n",
      "The local tests are done.\n"
     ]
    }
   ],
   "source": [
    "def remove_not_alphabet(text:list) -> list:\n",
    "    '''need to remove the exclamtion points and spaces and anything that isn't in the alphabet'''\n",
    "    alphabet = \"abcdefghijklmnopqrstuvwxyz\"\n",
    "    alpha_split = [k for k in alphabet] #split string into list of strings\n",
    "    new_text = []\n",
    "    for i in text:\n",
    "        if i in alpha_split:\n",
    "            new_text.append(i) #add only alphabetical stings to the new list\n",
    "    return new_text\n",
    "                \n",
    "def count_elements_in_string(text:list) -> dict:\n",
    "    '''counts the number of times the letter appears in the sentence and returns a dictionary:\n",
    "    keys=letter, values=count'''\n",
    "    new_dictionary = {}\n",
    "    for i in text: #loops through the elements \n",
    "        special = text.count(i)\n",
    "        new_dictionary[i] = special\n",
    "    return new_dictionary\n",
    "    \n",
    "\n",
    "def checkio(text: str) -> str:\n",
    "    '''The main function, creates a list out of the string and then carries outt the above functions,\n",
    "    before figuring out the most used letter. If there is morre than one it takes the first in the \n",
    "    alphabet, with a sorted command on the dictionary.'''\n",
    "    split_string = [k for k in text.lower()]#splitting the string into the different indices\n",
    "    split_string = remove_not_alphabet(split_string)\n",
    "    new_dicty = count_elements_in_string(split_string)\n",
    "    maximum_val = max(new_dicty.values())\n",
    "    new_new_dicty = {}\n",
    "    for key in new_dicty:\n",
    "        if new_dicty[key] == maximum_val:\n",
    "            new_new_dicty[key] = new_dicty[key]\n",
    "    \n",
    "    sorting_hat = sorted(new_new_dicty.keys())\n",
    "    return sorting_hat[0]\n",
    "    \n",
    "\n",
    "    \n",
    "print(checkio(\"Hello World!\"))\n",
    "print(checkio(\"How do you do?\"))\n",
    "print(checkio(\"AAaooo!!!!\"))\n",
    "\n",
    "if __name__ == '__main__':\n",
    "    print(\"Example:\")\n",
    "    print(checkio(\"Hello World!\"))\n",
    "\n",
    "    #These \"asserts\" using only for self-checking and not necessary for auto-testing\n",
    "    #Simple introduction into testing I think\n",
    "    assert checkio(\"Hello World!\") == \"l\", \"Hello test\"\n",
    "    assert checkio(\"How do you do?\") == \"o\", \"O is most wanted\"\n",
    "    assert checkio(\"One\") == \"e\", \"All letter only once.\"\n",
    "    assert checkio(\"Oops!\") == \"o\", \"Don't forget about lower case.\"\n",
    "    assert checkio(\"AAaooo!!!!\") == \"a\", \"Only letters.\"\n",
    "    assert checkio(\"abe\") == \"a\", \"The First.\"\n",
    "    print(\"Start the long test\")\n",
    "    assert checkio(\"a\" * 9000 + \"b\" * 1000) == \"a\", \"Long.\"\n",
    "    print(\"The local tests are done.\")"
   ]
  },
  {
   "cell_type": "code",
   "execution_count": null,
   "metadata": {
    "collapsed": true
   },
   "outputs": [],
   "source": []
  }
 ],
 "metadata": {
  "kernelspec": {
   "display_name": "Python 3",
   "language": "python",
   "name": "python3"
  },
  "language_info": {
   "codemirror_mode": {
    "name": "ipython",
    "version": 3
   },
   "file_extension": ".py",
   "mimetype": "text/x-python",
   "name": "python",
   "nbconvert_exporter": "python",
   "pygments_lexer": "ipython3",
   "version": "3.4.4"
  }
 },
 "nbformat": 4,
 "nbformat_minor": 0
}
