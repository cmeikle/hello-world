{
 "cells": [
  {
   "cell_type": "code",
   "execution_count": null,
   "metadata": {
    "collapsed": true
   },
   "outputs": [],
   "source": [
    "def two_teams(sailors):\n",
    "    boat1 = []\n",
    "    boat2 = []\n",
    "    for i in sailors.keys():\n",
    "        if sailors[i]>40 or sailors[i] < 20:\n",
    "            boat1.append(i)\n",
    "        else:\n",
    "            boat2.append(i)\n",
    "    return [sorted(boat1), sorted(boat2)]\n",
    "\n",
    "if __name__ == '__main__':\n",
    "    print(\"Example:\")\n",
    "    print(two_teams({'Smith': 34, 'Wesson': 22, 'Coleman': 45, 'Abrahams': 19}))\n",
    "\n",
    "    #These \"asserts\" using only for self-checking and not necessary for auto-testing\n",
    "    assert two_teams({\n",
    "        'Smith': 34, \n",
    "        'Wesson': 22, \n",
    "        'Coleman': 45, \n",
    "        'Abrahams': 19}) == [\n",
    "            ['Abrahams', 'Coleman'], \n",
    "            ['Smith', 'Wesson']\n",
    "            ]\n",
    "\n",
    "    assert two_teams({\n",
    "        'Fernandes': 18,\n",
    "        'Johnson': 22,\n",
    "        'Kale': 41,\n",
    "        'McCortney': 54}) == [\n",
    "            ['Fernandes', 'Kale', 'McCortney'], \n",
    "            ['Johnson']\n",
    "            ]\n",
    "    print(\"Coding complete? Click 'Check' to earn cool rewards!\")\n"
   ]
  }
 ],
 "metadata": {
  "kernelspec": {
   "display_name": "Python 3",
   "language": "python",
   "name": "python3"
  },
  "language_info": {
   "codemirror_mode": {
    "name": "ipython",
    "version": 3
   },
   "file_extension": ".py",
   "mimetype": "text/x-python",
   "name": "python",
   "nbconvert_exporter": "python",
   "pygments_lexer": "ipython3",
   "version": "3.4.4"
  }
 },
 "nbformat": 4,
 "nbformat_minor": 0
}
