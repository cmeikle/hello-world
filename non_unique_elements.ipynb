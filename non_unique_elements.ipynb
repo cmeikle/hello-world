{
 "cells": [
  {
   "cell_type": "code",
   "execution_count": null,
   "metadata": {
    "collapsed": true
   },
   "outputs": [],
   "source": [
    "#Your optional code here\n",
    "#You can import some modules or create additional functions\n",
    "\n",
    "\n",
    "def checkio(data: list) -> list:\n",
    "    #Your code here\n",
    "    #It's main function. Don't remove this function\n",
    "    #It's used for auto-testing and must return a result for check. \n",
    "    s =[]\n",
    "    for i in data:\n",
    "        count = data.count(i)\n",
    "        if count > 1:\n",
    "            s.append(i)\n",
    "    #replace this for solution\n",
    "    return s\n",
    "\n",
    "#Some hints\n",
    "#You can use list.count(element) method for counting.\n",
    "#Create new list with non-unique elements\n",
    "#Loop over original list\n",
    "\n",
    "print(checkio([10, 9, 10, 10, 9, 8]))\n",
    "\n",
    "\n",
    "if __name__ == \"__main__\":\n",
    "    #These \"asserts\" using only for self-checking and not necessary for auto-testing\n",
    "    assert list(checkio([1, 2, 3, 1, 3])) == [1, 3, 1, 3], \"1st example\"\n",
    "    assert list(checkio([1, 2, 3, 4, 5])) == [], \"2nd example\"\n",
    "    assert list(checkio([5, 5, 5, 5, 5])) == [5, 5, 5, 5, 5], \"3rd example\"\n",
    "    assert list(checkio([10, 9, 10, 10, 9, 8])) == [10, 9, 10, 10, 9], \"4th example\"\n",
    "    print(\"It is all good. Let's check it now\")\n"
   ]
  }
 ],
 "metadata": {
  "kernelspec": {
   "display_name": "Python 3",
   "language": "python",
   "name": "python3"
  },
  "language_info": {
   "codemirror_mode": {
    "name": "ipython",
    "version": 3
   },
   "file_extension": ".py",
   "mimetype": "text/x-python",
   "name": "python",
   "nbconvert_exporter": "python",
   "pygments_lexer": "ipython3",
   "version": "3.4.4"
  }
 },
 "nbformat": 4,
 "nbformat_minor": 0
}
