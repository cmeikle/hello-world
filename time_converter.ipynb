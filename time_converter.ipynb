{
 "cells": [
  {
   "cell_type": "code",
   "execution_count": null,
   "metadata": {
    "collapsed": true
   },
   "outputs": [],
   "source": [
    "def time_converter(time):\n",
    "    #replace this for solution\n",
    "    hours, minutes = time.split(':')\n",
    "    hours = int(hours)\n",
    "    if hours > 12:\n",
    "        hours -= 12\n",
    "        ap = \"p.m.\"\n",
    "    elif hours == 12:\n",
    "        ap = \"p.m.\"\n",
    "    elif hours == 0:\n",
    "        hours = \"12\"\n",
    "        ap = \"a.m.\"\n",
    "    else:\n",
    "        hours = str(hours).replace(\"0\",\"\")\n",
    "        ap = \"a.m.\"\n",
    "    return \"{0}:{1} {2}\".format(hours,minutes,ap)\n",
    "    \n",
    "    return hours, minutes\n",
    "    \n",
    "\n",
    "if __name__ == '__main__':\n",
    "    print(\"Example:\")\n",
    "    print(time_converter('00:00'))\n",
    "\n",
    "    #These \"asserts\" using only for self-checking and not necessary for auto-testing\n",
    "    assert time_converter('12:30') == '12:30 p.m.'\n",
    "    assert time_converter('09:00') == '9:00 a.m.'\n",
    "    assert time_converter('23:15') == '11:15 p.m.'\n",
    "    print(\"Coding complete? Click 'Check' to earn cool rewards!\")"
   ]
  }
 ],
 "metadata": {
  "kernelspec": {
   "display_name": "Python 3",
   "language": "python",
   "name": "python3"
  },
  "language_info": {
   "codemirror_mode": {
    "name": "ipython",
    "version": 3
   },
   "file_extension": ".py",
   "mimetype": "text/x-python",
   "name": "python",
   "nbconvert_exporter": "python",
   "pygments_lexer": "ipython3",
   "version": "3.4.4"
  }
 },
 "nbformat": 4,
 "nbformat_minor": 0
}
